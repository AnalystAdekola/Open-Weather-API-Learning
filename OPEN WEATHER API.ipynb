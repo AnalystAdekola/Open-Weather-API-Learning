{
 "cells": [
  {
   "cell_type": "code",
   "execution_count": 1,
   "id": "a63fe0d4",
   "metadata": {
    "scrolled": true
   },
   "outputs": [
    {
     "name": "stdout",
     "output_type": "stream",
     "text": [
      "Requirement already satisfied: requests in c:\\users\\adekola\\anaconda3\\lib\\site-packages (2.28.1)\n",
      "Requirement already satisfied: urllib3<1.27,>=1.21.1 in c:\\users\\adekola\\anaconda3\\lib\\site-packages (from requests) (1.26.4)\n",
      "Requirement already satisfied: certifi>=2017.4.17 in c:\\users\\adekola\\anaconda3\\lib\\site-packages (from requests) (2020.12.5)\n",
      "Requirement already satisfied: idna<4,>=2.5 in c:\\users\\adekola\\anaconda3\\lib\\site-packages (from requests) (2.10)\n",
      "Requirement already satisfied: charset-normalizer<3,>=2 in c:\\users\\adekola\\anaconda3\\lib\\site-packages (from requests) (2.1.0)\n"
     ]
    }
   ],
   "source": [
    "!pip install requests"
   ]
  },
  {
   "cell_type": "code",
   "execution_count": 2,
   "id": "bfcc7fd1",
   "metadata": {},
   "outputs": [],
   "source": [
    "import pandas as pd\n",
    "import requests\n",
    "import json"
   ]
  },
  {
   "cell_type": "code",
   "execution_count": 10,
   "id": "97fa650c",
   "metadata": {},
   "outputs": [],
   "source": [
    "import datetime as dt"
   ]
  },
  {
   "cell_type": "code",
   "execution_count": 3,
   "id": "2485ba66",
   "metadata": {},
   "outputs": [],
   "source": [
    "api_key= ''"
   ]
  },
  {
   "cell_type": "code",
   "execution_count": 53,
   "id": "6dc0abb2",
   "metadata": {},
   "outputs": [],
   "source": [
    "CITY =\"Abuja\""
   ]
  },
  {
   "cell_type": "code",
   "execution_count": 54,
   "id": "c859f308",
   "metadata": {},
   "outputs": [],
   "source": [
    "#API url\n",
    "base_url = 'https://api.openweathermap.org/data/2.5/weather?&appid=api_key'\n",
    "url = base_url + \"&q=\" + CITY"
   ]
  },
  {
   "cell_type": "code",
   "execution_count": 55,
   "id": "2864e122",
   "metadata": {},
   "outputs": [],
   "source": [
    "response = requests.get(url).json()"
   ]
  },
  {
   "cell_type": "code",
   "execution_count": 56,
   "id": "816cdffb",
   "metadata": {},
   "outputs": [
    {
     "name": "stdout",
     "output_type": "stream",
     "text": [
      "{'coord': {'lon': 7.4898, 'lat': 9.0574}, 'weather': [{'id': 804, 'main': 'Clouds', 'description': 'overcast clouds', 'icon': '04d'}], 'base': 'stations', 'main': {'temp': 302.23, 'feels_like': 301.93, 'temp_min': 302.23, 'temp_max': 302.23, 'pressure': 1011, 'humidity': 41, 'sea_level': 1011, 'grnd_level': 959}, 'visibility': 10000, 'wind': {'speed': 2.61, 'deg': 214, 'gust': 3.34}, 'clouds': {'all': 100}, 'dt': 1711969012, 'sys': {'type': 1, 'id': 1173, 'country': 'NG', 'sunrise': 1711949236, 'sunset': 1711993202}, 'timezone': 3600, 'id': 2352778, 'name': 'Abuja', 'cod': 200}\n"
     ]
    }
   ],
   "source": [
    "print(response)"
   ]
  },
  {
   "cell_type": "code",
   "execution_count": 57,
   "id": "d83b198c",
   "metadata": {},
   "outputs": [],
   "source": [
    "def kelvin_to_celsius_fahrenheit(kelvin):\n",
    "    celsius = kelvin - 273.15\n",
    "    fahrenheit = celsius *(9/5) + 32\n",
    "    return celsius, fahrenheit"
   ]
  },
  {
   "cell_type": "code",
   "execution_count": 58,
   "id": "8dd7d024",
   "metadata": {},
   "outputs": [],
   "source": [
    "temp_kelvin = response['main']['temp']\n",
    "temp_celsius, temp_fahrenheit = kelvin_to_celsius_fahrenheit(temp_kelvin)\n",
    "feels_like_kelvin = response['main']['feels_like']\n",
    "feels_like_celsius, feels_like_fahrenheit = kelvin_to_celsius_fahrenheit(feels_like_kelvin)\n",
    "humidity = response['main']['humidity']\n",
    "wind_speed = response['wind']['speed']\n",
    "sunrise_time = dt.datetime.utcfromtimestamp(response['sys']['sunrise'] + response['timezone'])\n",
    "sunset_time = dt.datetime.utcfromtimestamp(response['sys']['sunset'] + response['timezone'])"
   ]
  },
  {
   "cell_type": "code",
   "execution_count": 60,
   "id": "297b83f1",
   "metadata": {},
   "outputs": [
    {
     "name": "stdout",
     "output_type": "stream",
     "text": [
      "Temperature in Abuja: 29.08°C or 84.34°F\n",
      "Temperature in Abuja feels like: 28.78°C or 83.80°F\n",
      "Humidity in Abuja: 41%\n",
      "Wind Speed in Abuja: 2.61m/s\n",
      "Sunrise in Abuja at 2024-04-01 06:27:16 local time.\n",
      "Sunset in Abuja at 2024-04-01 18:40:02 local time.\n"
     ]
    }
   ],
   "source": [
    "print(f\"Temperature in {CITY}: {temp_celsius:.2f}°C or {temp_fahrenheit:.2f}°F\")\n",
    "print(f\"Temperature in {CITY} feels like: {feels_like_celsius:.2f}°C or {feels_like_fahrenheit:.2f}°F\")\n",
    "print(f\"Humidity in {CITY}: {humidity}%\")\n",
    "print(f\"Wind Speed in {CITY}: {wind_speed}m/s\")\n",
    "print(f\"Sunrise in {CITY} at {sunrise_time} local time.\")\n",
    "print(f\"Sunset in {CITY} at {sunset_time} local time.\")"
   ]
  }
 ],
 "metadata": {
  "kernelspec": {
   "display_name": "Python 3",
   "language": "python",
   "name": "python3"
  },
  "language_info": {
   "codemirror_mode": {
    "name": "ipython",
    "version": 3
   },
   "file_extension": ".py",
   "mimetype": "text/x-python",
   "name": "python",
   "nbconvert_exporter": "python",
   "pygments_lexer": "ipython3",
   "version": "3.8.8"
  }
 },
 "nbformat": 4,
 "nbformat_minor": 5
}
